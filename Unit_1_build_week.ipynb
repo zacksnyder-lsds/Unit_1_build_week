{
  "nbformat": 4,
  "nbformat_minor": 0,
  "metadata": {
    "colab": {
      "name": "Unit_1_build_week",
      "provenance": [],
      "authorship_tag": "ABX9TyMmO/nPLGG0L8tZkZhxTETe",
      "include_colab_link": true
    },
    "kernelspec": {
      "name": "python3",
      "display_name": "Python 3"
    }
  },
  "cells": [
    {
      "cell_type": "markdown",
      "metadata": {
        "id": "view-in-github",
        "colab_type": "text"
      },
      "source": [
        "<a href=\"https://colab.research.google.com/github/zacksnyder-lsds/Unit_1_build_week/blob/master/Unit_1_build_week.ipynb\" target=\"_parent\"><img src=\"https://colab.research.google.com/assets/colab-badge.svg\" alt=\"Open In Colab\"/></a>"
      ]
    },
    {
      "cell_type": "markdown",
      "metadata": {
        "id": "cl7TmhMP2nDY",
        "colab_type": "text"
      },
      "source": [
        "#Reading in the data and initial cleaning "
      ]
    },
    {
      "cell_type": "code",
      "metadata": {
        "id": "f3qUVbdPyOuC",
        "colab_type": "code",
        "colab": {}
      },
      "source": [
        "#Imports for the data reading and initial cleaning section \n",
        "import pandas as pd"
      ],
      "execution_count": 0,
      "outputs": []
    },
    {
      "cell_type": "code",
      "metadata": {
        "id": "GdWH6EiLk6_f",
        "colab_type": "code",
        "colab": {}
      },
      "source": [
        "#reading in the datasets I split in a seperate notebook so I could upload to github \n",
        "url1 = 'https://raw.githubusercontent.com/zacksnyder-lsds/Unit_1_build_week/master/kiva1%20(1).csv'\n",
        "url2 = 'https://raw.githubusercontent.com/zacksnyder-lsds/Unit_1_build_week/master/kiva2.csv'\n",
        "url3 = 'https://raw.githubusercontent.com/zacksnyder-lsds/Unit_1_build_week/master/kiva3.csv'\n",
        "url4 = 'https://raw.githubusercontent.com/zacksnyder-lsds/Unit_1_build_week/master/kiva4.csv'\n",
        "url5 = 'https://raw.githubusercontent.com/zacksnyder-lsds/Unit_1_build_week/master/kiva5.csv'\n",
        "url6 = 'https://raw.githubusercontent.com/zacksnyder-lsds/Unit_1_build_week/master/kiva6.csv'\n",
        "url7 = 'https://raw.githubusercontent.com/zacksnyder-lsds/Unit_1_build_week/master/kiva7.csv'\n",
        "url8 = 'https://raw.githubusercontent.com/zacksnyder-lsds/Unit_1_build_week/master/kiva8.csv'\n",
        "url9 = 'https://raw.githubusercontent.com/zacksnyder-lsds/Unit_1_build_week/master/kiva9.csv'\n",
        "url10 = 'https://raw.githubusercontent.com/zacksnyder-lsds/Unit_1_build_week/master/kiva10.csv'"
      ],
      "execution_count": 0,
      "outputs": []
    },
    {
      "cell_type": "code",
      "metadata": {
        "id": "beS-HYNOxzZK",
        "colab_type": "code",
        "colab": {}
      },
      "source": [
        "#converting the csv files back to dataframes for use \n",
        "kiva1 = pd.read_csv(url1)\n",
        "kiva2 = pd.read_csv(url2)\n",
        "kiva3 = pd.read_csv(url3)\n",
        "kiva4 = pd.read_csv(url4)\n",
        "kiva5 = pd.read_csv(url5)\n",
        "kiva6 = pd.read_csv(url6)\n",
        "kiva7 = pd.read_csv(url7)\n",
        "kiva8 = pd.read_csv(url8)\n",
        "kiva9 = pd.read_csv(url9)\n",
        "kiva10 = pd.read_csv(url10)"
      ],
      "execution_count": 0,
      "outputs": []
    },
    {
      "cell_type": "code",
      "metadata": {
        "id": "sOP39Z0jyNb5",
        "colab_type": "code",
        "outputId": "ebc0b2bb-b1a5-4979-c99b-51aaa9959d87",
        "colab": {
          "base_uri": "https://localhost:8080/",
          "height": 753
        }
      },
      "source": [
        "#checking to make sure all the data read in smoothly \n",
        "[print(name.shape) for name in [kiva1,kiva2,kiva3,kiva4,kiva5,kiva6,kiva7,kiva8,kiva9,kiva10]]\n",
        "kiva2.head()"
      ],
      "execution_count": 4,
      "outputs": [
        {
          "output_type": "stream",
          "text": [
            "(67120, 21)\n",
            "(67120, 21)\n",
            "(67120, 21)\n",
            "(67120, 21)\n",
            "(67120, 21)\n",
            "(67120, 21)\n",
            "(67120, 21)\n",
            "(67120, 21)\n",
            "(67120, 21)\n",
            "(67125, 21)\n"
          ],
          "name": "stdout"
        },
        {
          "output_type": "execute_result",
          "data": {
            "text/html": [
              "<div>\n",
              "<style scoped>\n",
              "    .dataframe tbody tr th:only-of-type {\n",
              "        vertical-align: middle;\n",
              "    }\n",
              "\n",
              "    .dataframe tbody tr th {\n",
              "        vertical-align: top;\n",
              "    }\n",
              "\n",
              "    .dataframe thead th {\n",
              "        text-align: right;\n",
              "    }\n",
              "</style>\n",
              "<table border=\"1\" class=\"dataframe\">\n",
              "  <thead>\n",
              "    <tr style=\"text-align: right;\">\n",
              "      <th></th>\n",
              "      <th>Unnamed: 0</th>\n",
              "      <th>id</th>\n",
              "      <th>funded_amount</th>\n",
              "      <th>loan_amount</th>\n",
              "      <th>activity</th>\n",
              "      <th>sector</th>\n",
              "      <th>use</th>\n",
              "      <th>country_code</th>\n",
              "      <th>country</th>\n",
              "      <th>region</th>\n",
              "      <th>currency</th>\n",
              "      <th>partner_id</th>\n",
              "      <th>posted_time</th>\n",
              "      <th>disbursed_time</th>\n",
              "      <th>funded_time</th>\n",
              "      <th>term_in_months</th>\n",
              "      <th>lender_count</th>\n",
              "      <th>tags</th>\n",
              "      <th>borrower_genders</th>\n",
              "      <th>repayment_interval</th>\n",
              "      <th>date</th>\n",
              "    </tr>\n",
              "  </thead>\n",
              "  <tbody>\n",
              "    <tr>\n",
              "      <th>0</th>\n",
              "      <td>67120</td>\n",
              "      <td>1081611</td>\n",
              "      <td>125.0</td>\n",
              "      <td>125.0</td>\n",
              "      <td>Clothing</td>\n",
              "      <td>Clothing</td>\n",
              "      <td>buy new clothes using ksh 5500 and second hand...</td>\n",
              "      <td>KE</td>\n",
              "      <td>Kenya</td>\n",
              "      <td>NaN</td>\n",
              "      <td>KES</td>\n",
              "      <td>NaN</td>\n",
              "      <td>2014-06-03 13:45:20+00:00</td>\n",
              "      <td>2014-06-19 05:35:49+00:00</td>\n",
              "      <td>2014-06-18 12:18:49+00:00</td>\n",
              "      <td>3.0</td>\n",
              "      <td>5</td>\n",
              "      <td>NaN</td>\n",
              "      <td>female</td>\n",
              "      <td>irregular</td>\n",
              "      <td>2014-06-03</td>\n",
              "    </tr>\n",
              "    <tr>\n",
              "      <th>1</th>\n",
              "      <td>67121</td>\n",
              "      <td>719419</td>\n",
              "      <td>425.0</td>\n",
              "      <td>425.0</td>\n",
              "      <td>Weaving</td>\n",
              "      <td>Arts</td>\n",
              "      <td>to purchase additional stock of bamboo to sell</td>\n",
              "      <td>PH</td>\n",
              "      <td>Philippines</td>\n",
              "      <td>Brookes Point, Palawan</td>\n",
              "      <td>PHP</td>\n",
              "      <td>145.0</td>\n",
              "      <td>2014-06-03 06:28:43+00:00</td>\n",
              "      <td>2014-05-28 07:00:00+00:00</td>\n",
              "      <td>2014-06-09 00:31:06+00:00</td>\n",
              "      <td>8.0</td>\n",
              "      <td>17</td>\n",
              "      <td>NaN</td>\n",
              "      <td>female</td>\n",
              "      <td>irregular</td>\n",
              "      <td>2014-06-03</td>\n",
              "    </tr>\n",
              "    <tr>\n",
              "      <th>2</th>\n",
              "      <td>67122</td>\n",
              "      <td>719437</td>\n",
              "      <td>275.0</td>\n",
              "      <td>275.0</td>\n",
              "      <td>Fishing</td>\n",
              "      <td>Food</td>\n",
              "      <td>to buy an additional bundle of fishing nets</td>\n",
              "      <td>PH</td>\n",
              "      <td>Philippines</td>\n",
              "      <td>Brookes Point, Palawan</td>\n",
              "      <td>PHP</td>\n",
              "      <td>145.0</td>\n",
              "      <td>2014-06-03 07:00:11+00:00</td>\n",
              "      <td>2014-05-28 07:00:00+00:00</td>\n",
              "      <td>2014-06-18 12:05:58+00:00</td>\n",
              "      <td>8.0</td>\n",
              "      <td>10</td>\n",
              "      <td>NaN</td>\n",
              "      <td>female</td>\n",
              "      <td>irregular</td>\n",
              "      <td>2014-06-03</td>\n",
              "    </tr>\n",
              "    <tr>\n",
              "      <th>3</th>\n",
              "      <td>67123</td>\n",
              "      <td>719717</td>\n",
              "      <td>450.0</td>\n",
              "      <td>450.0</td>\n",
              "      <td>Food Production/Sales</td>\n",
              "      <td>Food</td>\n",
              "      <td>to buy corn wholesale and lime.</td>\n",
              "      <td>SV</td>\n",
              "      <td>El Salvador</td>\n",
              "      <td>NaN</td>\n",
              "      <td>USD</td>\n",
              "      <td>81.0</td>\n",
              "      <td>2014-06-03 23:02:46+00:00</td>\n",
              "      <td>2014-05-28 07:00:00+00:00</td>\n",
              "      <td>2014-06-17 00:25:04+00:00</td>\n",
              "      <td>14.0</td>\n",
              "      <td>17</td>\n",
              "      <td>volunteer_pick, volunteer_like</td>\n",
              "      <td>female</td>\n",
              "      <td>monthly</td>\n",
              "      <td>2014-06-03</td>\n",
              "    </tr>\n",
              "    <tr>\n",
              "      <th>4</th>\n",
              "      <td>67124</td>\n",
              "      <td>719548</td>\n",
              "      <td>475.0</td>\n",
              "      <td>475.0</td>\n",
              "      <td>Retail</td>\n",
              "      <td>Retail</td>\n",
              "      <td>To buy clothes and blankets to resell</td>\n",
              "      <td>JO</td>\n",
              "      <td>Jordan</td>\n",
              "      <td>Zarqa</td>\n",
              "      <td>JOD</td>\n",
              "      <td>185.0</td>\n",
              "      <td>2014-06-03 12:21:09+00:00</td>\n",
              "      <td>2014-05-27 07:00:00+00:00</td>\n",
              "      <td>2014-06-30 11:35:35+00:00</td>\n",
              "      <td>15.0</td>\n",
              "      <td>17</td>\n",
              "      <td>#Single, #Woman Owned Biz</td>\n",
              "      <td>female</td>\n",
              "      <td>monthly</td>\n",
              "      <td>2014-06-03</td>\n",
              "    </tr>\n",
              "  </tbody>\n",
              "</table>\n",
              "</div>"
            ],
            "text/plain": [
              "   Unnamed: 0       id  ...  repayment_interval        date\n",
              "0       67120  1081611  ...           irregular  2014-06-03\n",
              "1       67121   719419  ...           irregular  2014-06-03\n",
              "2       67122   719437  ...           irregular  2014-06-03\n",
              "3       67123   719717  ...             monthly  2014-06-03\n",
              "4       67124   719548  ...             monthly  2014-06-03\n",
              "\n",
              "[5 rows x 21 columns]"
            ]
          },
          "metadata": {
            "tags": []
          },
          "execution_count": 4
        }
      ]
    },
    {
      "cell_type": "code",
      "metadata": {
        "id": "zrqkF-9By11d",
        "colab_type": "code",
        "outputId": "e84e3d0d-d52a-434d-d96e-e1f8c2c0d0f7",
        "colab": {
          "base_uri": "https://localhost:8080/",
          "height": 585
        }
      },
      "source": [
        "#concatinating the dataframes back together to the original from Kaggle \n",
        "kiva = pd.concat([kiva1,kiva2,kiva3,kiva4,kiva5,kiva6,kiva7,kiva8,kiva9,kiva10])\n",
        "kiva.reset_index()\n",
        "print(kiva.shape)\n",
        "kiva.sample(5)"
      ],
      "execution_count": 5,
      "outputs": [
        {
          "output_type": "stream",
          "text": [
            "(671205, 21)\n"
          ],
          "name": "stdout"
        },
        {
          "output_type": "execute_result",
          "data": {
            "text/html": [
              "<div>\n",
              "<style scoped>\n",
              "    .dataframe tbody tr th:only-of-type {\n",
              "        vertical-align: middle;\n",
              "    }\n",
              "\n",
              "    .dataframe tbody tr th {\n",
              "        vertical-align: top;\n",
              "    }\n",
              "\n",
              "    .dataframe thead th {\n",
              "        text-align: right;\n",
              "    }\n",
              "</style>\n",
              "<table border=\"1\" class=\"dataframe\">\n",
              "  <thead>\n",
              "    <tr style=\"text-align: right;\">\n",
              "      <th></th>\n",
              "      <th>Unnamed: 0</th>\n",
              "      <th>id</th>\n",
              "      <th>funded_amount</th>\n",
              "      <th>loan_amount</th>\n",
              "      <th>activity</th>\n",
              "      <th>sector</th>\n",
              "      <th>use</th>\n",
              "      <th>country_code</th>\n",
              "      <th>country</th>\n",
              "      <th>region</th>\n",
              "      <th>currency</th>\n",
              "      <th>partner_id</th>\n",
              "      <th>posted_time</th>\n",
              "      <th>disbursed_time</th>\n",
              "      <th>funded_time</th>\n",
              "      <th>term_in_months</th>\n",
              "      <th>lender_count</th>\n",
              "      <th>tags</th>\n",
              "      <th>borrower_genders</th>\n",
              "      <th>repayment_interval</th>\n",
              "      <th>date</th>\n",
              "    </tr>\n",
              "  </thead>\n",
              "  <tbody>\n",
              "    <tr>\n",
              "      <th>10163</th>\n",
              "      <td>211523</td>\n",
              "      <td>859517</td>\n",
              "      <td>100.0</td>\n",
              "      <td>100.0</td>\n",
              "      <td>Fishing</td>\n",
              "      <td>Food</td>\n",
              "      <td>to buy fish nets and other materials needed fo...</td>\n",
              "      <td>PH</td>\n",
              "      <td>Philippines</td>\n",
              "      <td>Tacloban City, Leyte</td>\n",
              "      <td>PHP</td>\n",
              "      <td>145.0</td>\n",
              "      <td>2015-03-21 19:23:55+00:00</td>\n",
              "      <td>2015-03-12 07:00:00+00:00</td>\n",
              "      <td>2015-03-27 15:50:10+00:00</td>\n",
              "      <td>8.0</td>\n",
              "      <td>4</td>\n",
              "      <td>NaN</td>\n",
              "      <td>female</td>\n",
              "      <td>irregular</td>\n",
              "      <td>2015-03-21</td>\n",
              "    </tr>\n",
              "    <tr>\n",
              "      <th>38663</th>\n",
              "      <td>307143</td>\n",
              "      <td>954480</td>\n",
              "      <td>200.0</td>\n",
              "      <td>200.0</td>\n",
              "      <td>Livestock</td>\n",
              "      <td>Agriculture</td>\n",
              "      <td>to buy dairy goats.</td>\n",
              "      <td>KE</td>\n",
              "      <td>Kenya</td>\n",
              "      <td>Chuka</td>\n",
              "      <td>KES</td>\n",
              "      <td>156.0</td>\n",
              "      <td>2015-09-28 12:02:56+00:00</td>\n",
              "      <td>2015-10-02 07:00:00+00:00</td>\n",
              "      <td>2015-10-18 22:35:38+00:00</td>\n",
              "      <td>14.0</td>\n",
              "      <td>7</td>\n",
              "      <td>user_favorite</td>\n",
              "      <td>female</td>\n",
              "      <td>monthly</td>\n",
              "      <td>2015-09-28</td>\n",
              "    </tr>\n",
              "    <tr>\n",
              "      <th>7829</th>\n",
              "      <td>544789</td>\n",
              "      <td>1205334</td>\n",
              "      <td>750.0</td>\n",
              "      <td>750.0</td>\n",
              "      <td>Poultry</td>\n",
              "      <td>Agriculture</td>\n",
              "      <td>to purchase additional ducks</td>\n",
              "      <td>MM</td>\n",
              "      <td>Myanmar (Burma)</td>\n",
              "      <td>Kungyangon</td>\n",
              "      <td>MMK</td>\n",
              "      <td>416.0</td>\n",
              "      <td>2016-12-18 05:19:10+00:00</td>\n",
              "      <td>2016-12-09 08:00:00+00:00</td>\n",
              "      <td>2017-01-18 03:44:21+00:00</td>\n",
              "      <td>14.0</td>\n",
              "      <td>28</td>\n",
              "      <td>#Single, #Animals, user_favorite</td>\n",
              "      <td>male, male, male, female, male</td>\n",
              "      <td>bullet</td>\n",
              "      <td>2016-12-18</td>\n",
              "    </tr>\n",
              "    <tr>\n",
              "      <th>17093</th>\n",
              "      <td>151333</td>\n",
              "      <td>799923</td>\n",
              "      <td>3625.0</td>\n",
              "      <td>3625.0</td>\n",
              "      <td>Retail</td>\n",
              "      <td>Retail</td>\n",
              "      <td>to buy clothes, shoes, and bazaar products tha...</td>\n",
              "      <td>PY</td>\n",
              "      <td>Paraguay</td>\n",
              "      <td>Caaguazú</td>\n",
              "      <td>PYG</td>\n",
              "      <td>58.0</td>\n",
              "      <td>2014-11-18 02:49:55+00:00</td>\n",
              "      <td>2014-10-17 07:00:00+00:00</td>\n",
              "      <td>2014-11-30 03:26:16+00:00</td>\n",
              "      <td>6.0</td>\n",
              "      <td>1</td>\n",
              "      <td>volunteer_pick, volunteer_like</td>\n",
              "      <td>female, female, female, female, female, female...</td>\n",
              "      <td>irregular</td>\n",
              "      <td>2014-11-18</td>\n",
              "    </tr>\n",
              "    <tr>\n",
              "      <th>26681</th>\n",
              "      <td>26681</td>\n",
              "      <td>679463</td>\n",
              "      <td>475.0</td>\n",
              "      <td>475.0</td>\n",
              "      <td>Farming</td>\n",
              "      <td>Agriculture</td>\n",
              "      <td>to buy fertilzers and other farm supplies</td>\n",
              "      <td>PH</td>\n",
              "      <td>Philippines</td>\n",
              "      <td>Narra, Palawan</td>\n",
              "      <td>PHP</td>\n",
              "      <td>145.0</td>\n",
              "      <td>2014-03-05 06:24:08+00:00</td>\n",
              "      <td>2014-02-25 08:00:00+00:00</td>\n",
              "      <td>2014-03-12 10:24:28+00:00</td>\n",
              "      <td>8.0</td>\n",
              "      <td>18</td>\n",
              "      <td>NaN</td>\n",
              "      <td>female</td>\n",
              "      <td>irregular</td>\n",
              "      <td>2014-03-05</td>\n",
              "    </tr>\n",
              "  </tbody>\n",
              "</table>\n",
              "</div>"
            ],
            "text/plain": [
              "       Unnamed: 0       id  ...  repayment_interval        date\n",
              "10163      211523   859517  ...           irregular  2015-03-21\n",
              "38663      307143   954480  ...             monthly  2015-09-28\n",
              "7829       544789  1205334  ...              bullet  2016-12-18\n",
              "17093      151333   799923  ...           irregular  2014-11-18\n",
              "26681       26681   679463  ...           irregular  2014-03-05\n",
              "\n",
              "[5 rows x 21 columns]"
            ]
          },
          "metadata": {
            "tags": []
          },
          "execution_count": 5
        }
      ]
    },
    {
      "cell_type": "code",
      "metadata": {
        "id": "p3Mzohv2zcpI",
        "colab_type": "code",
        "outputId": "0465feb8-e185-4c92-81d3-d293c2938768",
        "colab": {
          "base_uri": "https://localhost:8080/",
          "height": 618
        }
      },
      "source": [
        "#getting rid of the previous index column renamed unanamed 0 \n",
        "kiva.drop('Unnamed: 0', axis=1, inplace=True)\n",
        "kiva.sample(5)"
      ],
      "execution_count": 6,
      "outputs": [
        {
          "output_type": "execute_result",
          "data": {
            "text/html": [
              "<div>\n",
              "<style scoped>\n",
              "    .dataframe tbody tr th:only-of-type {\n",
              "        vertical-align: middle;\n",
              "    }\n",
              "\n",
              "    .dataframe tbody tr th {\n",
              "        vertical-align: top;\n",
              "    }\n",
              "\n",
              "    .dataframe thead th {\n",
              "        text-align: right;\n",
              "    }\n",
              "</style>\n",
              "<table border=\"1\" class=\"dataframe\">\n",
              "  <thead>\n",
              "    <tr style=\"text-align: right;\">\n",
              "      <th></th>\n",
              "      <th>id</th>\n",
              "      <th>funded_amount</th>\n",
              "      <th>loan_amount</th>\n",
              "      <th>activity</th>\n",
              "      <th>sector</th>\n",
              "      <th>use</th>\n",
              "      <th>country_code</th>\n",
              "      <th>country</th>\n",
              "      <th>region</th>\n",
              "      <th>currency</th>\n",
              "      <th>partner_id</th>\n",
              "      <th>posted_time</th>\n",
              "      <th>disbursed_time</th>\n",
              "      <th>funded_time</th>\n",
              "      <th>term_in_months</th>\n",
              "      <th>lender_count</th>\n",
              "      <th>tags</th>\n",
              "      <th>borrower_genders</th>\n",
              "      <th>repayment_interval</th>\n",
              "      <th>date</th>\n",
              "    </tr>\n",
              "  </thead>\n",
              "  <tbody>\n",
              "    <tr>\n",
              "      <th>35883</th>\n",
              "      <td>1165669</td>\n",
              "      <td>250.0</td>\n",
              "      <td>250.0</td>\n",
              "      <td>Food Production/Sales</td>\n",
              "      <td>Food</td>\n",
              "      <td>to buy ingredients for her food vending business.</td>\n",
              "      <td>PH</td>\n",
              "      <td>Philippines</td>\n",
              "      <td>Talisay City, Negros Occidental</td>\n",
              "      <td>PHP</td>\n",
              "      <td>145.0</td>\n",
              "      <td>2016-10-11 03:35:47+00:00</td>\n",
              "      <td>2016-09-22 07:00:00+00:00</td>\n",
              "      <td>2016-10-16 00:43:24+00:00</td>\n",
              "      <td>8.0</td>\n",
              "      <td>2</td>\n",
              "      <td>#Parent, #Woman Owned Biz</td>\n",
              "      <td>female</td>\n",
              "      <td>irregular</td>\n",
              "      <td>2016-10-11</td>\n",
              "    </tr>\n",
              "    <tr>\n",
              "      <th>765</th>\n",
              "      <td>1084589</td>\n",
              "      <td>125.0</td>\n",
              "      <td>125.0</td>\n",
              "      <td>Cosmetics Sales</td>\n",
              "      <td>Retail</td>\n",
              "      <td>I will use to stock new designs so that I can...</td>\n",
              "      <td>KE</td>\n",
              "      <td>Kenya</td>\n",
              "      <td>NaN</td>\n",
              "      <td>KES</td>\n",
              "      <td>NaN</td>\n",
              "      <td>2014-10-19 15:59:07+00:00</td>\n",
              "      <td>2015-01-06 21:31:01+00:00</td>\n",
              "      <td>2014-12-26 00:34:33+00:00</td>\n",
              "      <td>3.0</td>\n",
              "      <td>7</td>\n",
              "      <td>NaN</td>\n",
              "      <td>female</td>\n",
              "      <td>monthly</td>\n",
              "      <td>2014-10-19</td>\n",
              "    </tr>\n",
              "    <tr>\n",
              "      <th>20275</th>\n",
              "      <td>739159</td>\n",
              "      <td>1200.0</td>\n",
              "      <td>1200.0</td>\n",
              "      <td>Personal Expenses</td>\n",
              "      <td>Personal Use</td>\n",
              "      <td>to pay for necessary legal issues to get his h...</td>\n",
              "      <td>LB</td>\n",
              "      <td>Lebanon</td>\n",
              "      <td>Chtoura</td>\n",
              "      <td>USD</td>\n",
              "      <td>77.0</td>\n",
              "      <td>2014-07-15 12:31:09+00:00</td>\n",
              "      <td>2014-06-16 07:00:00+00:00</td>\n",
              "      <td>2014-07-22 04:47:48+00:00</td>\n",
              "      <td>17.0</td>\n",
              "      <td>22</td>\n",
              "      <td>NaN</td>\n",
              "      <td>male</td>\n",
              "      <td>monthly</td>\n",
              "      <td>2014-07-15</td>\n",
              "    </tr>\n",
              "    <tr>\n",
              "      <th>49561</th>\n",
              "      <td>1179426</td>\n",
              "      <td>1675.0</td>\n",
              "      <td>2925.0</td>\n",
              "      <td>Services</td>\n",
              "      <td>Services</td>\n",
              "      <td>to buy goods and a welding machine for his work.</td>\n",
              "      <td>PS</td>\n",
              "      <td>Palestine</td>\n",
              "      <td>Jabalia-Gaza Strip</td>\n",
              "      <td>USD</td>\n",
              "      <td>80.0</td>\n",
              "      <td>2016-11-03 08:28:58+00:00</td>\n",
              "      <td>2016-10-30 07:00:00+00:00</td>\n",
              "      <td>NaN</td>\n",
              "      <td>27.0</td>\n",
              "      <td>19</td>\n",
              "      <td>#Supporting Family, #Single, #Biz Durable Asse...</td>\n",
              "      <td>male</td>\n",
              "      <td>monthly</td>\n",
              "      <td>2016-11-03</td>\n",
              "    </tr>\n",
              "    <tr>\n",
              "      <th>10859</th>\n",
              "      <td>1088162</td>\n",
              "      <td>350.0</td>\n",
              "      <td>350.0</td>\n",
              "      <td>Services</td>\n",
              "      <td>Services</td>\n",
              "      <td>buy three drier machines for efficiency and qu...</td>\n",
              "      <td>KE</td>\n",
              "      <td>Kenya</td>\n",
              "      <td>NaN</td>\n",
              "      <td>KES</td>\n",
              "      <td>NaN</td>\n",
              "      <td>2015-03-23 06:41:49+00:00</td>\n",
              "      <td>2015-06-02 18:37:00+00:00</td>\n",
              "      <td>2015-05-29 05:21:38+00:00</td>\n",
              "      <td>9.0</td>\n",
              "      <td>23</td>\n",
              "      <td>NaN</td>\n",
              "      <td>female</td>\n",
              "      <td>monthly</td>\n",
              "      <td>2015-03-23</td>\n",
              "    </tr>\n",
              "  </tbody>\n",
              "</table>\n",
              "</div>"
            ],
            "text/plain": [
              "            id  funded_amount  ...  repayment_interval        date\n",
              "35883  1165669          250.0  ...           irregular  2016-10-11\n",
              "765    1084589          125.0  ...             monthly  2014-10-19\n",
              "20275   739159         1200.0  ...             monthly  2014-07-15\n",
              "49561  1179426         1675.0  ...             monthly  2016-11-03\n",
              "10859  1088162          350.0  ...             monthly  2015-03-23\n",
              "\n",
              "[5 rows x 20 columns]"
            ]
          },
          "metadata": {
            "tags": []
          },
          "execution_count": 6
        }
      ]
    },
    {
      "cell_type": "markdown",
      "metadata": {
        "id": "hSWaAqj53xOS",
        "colab_type": "text"
      },
      "source": [
        "#Deeper Cleaning "
      ]
    },
    {
      "cell_type": "markdown",
      "metadata": {
        "id": "Moczewml339H",
        "colab_type": "text"
      },
      "source": [
        "###grabbing just the top 25 countries "
      ]
    },
    {
      "cell_type": "code",
      "metadata": {
        "id": "rtctJMxe13vv",
        "colab_type": "code",
        "colab": {
          "base_uri": "https://localhost:8080/",
          "height": 84
        },
        "outputId": "df59e7e2-95f7-4feb-d73d-d447f25f61fb"
      },
      "source": [
        "#finding the top 25 countries that Kiva serves \n",
        "top_code = kiva['country_code'].value_counts()[:26].index\n",
        "top_code"
      ],
      "execution_count": 16,
      "outputs": [
        {
          "output_type": "execute_result",
          "data": {
            "text/plain": [
              "Index(['PH', 'KE', 'SV', 'KH', 'PK', 'PE', 'CO', 'UG', 'TJ', 'EC', 'PY', 'NI',\n",
              "       'IN', 'VN', 'NG', 'BO', 'LB', 'AM', 'PS', 'WS', 'GT', 'RW', 'ML', 'HN',\n",
              "       'ID', 'US'],\n",
              "      dtype='object')"
            ]
          },
          "metadata": {
            "tags": []
          },
          "execution_count": 16
        }
      ]
    },
    {
      "cell_type": "code",
      "metadata": {
        "id": "fpe-dorN2WdE",
        "colab_type": "code",
        "colab": {
          "base_uri": "https://localhost:8080/",
          "height": 118
        },
        "outputId": "c7e8a7b0-11d1-44e7-b815-c665a97f9867"
      },
      "source": [
        "#creating a column for top 25 countries \n",
        "kiva['top_25_countries'] = 'Other'\n",
        "kiva['top_25_countries'].sample(5)"
      ],
      "execution_count": 8,
      "outputs": [
        {
          "output_type": "execute_result",
          "data": {
            "text/plain": [
              "28031    Other\n",
              "37411    Other\n",
              "36693    Other\n",
              "9676     Other\n",
              "63075    Other\n",
              "Name: top_25_countries, dtype: object"
            ]
          },
          "metadata": {
            "tags": []
          },
          "execution_count": 8
        }
      ]
    },
    {
      "cell_type": "code",
      "metadata": {
        "id": "4IFXnOyQ5IXe",
        "colab_type": "code",
        "colab": {
          "base_uri": "https://localhost:8080/",
          "height": 343
        },
        "outputId": "6bd30620-199e-4e52-cf07-85b2d7cd3efc"
      },
      "source": [
        "#locking just the top 25 countries \n",
        "for code in top_code:\n",
        "  kiva.loc[kiva['country_code'] == code, 'top_25_countries'] = code\n",
        "kiva[['top_25_countries','country_code']].sample(10)"
      ],
      "execution_count": 28,
      "outputs": [
        {
          "output_type": "execute_result",
          "data": {
            "text/html": [
              "<div>\n",
              "<style scoped>\n",
              "    .dataframe tbody tr th:only-of-type {\n",
              "        vertical-align: middle;\n",
              "    }\n",
              "\n",
              "    .dataframe tbody tr th {\n",
              "        vertical-align: top;\n",
              "    }\n",
              "\n",
              "    .dataframe thead th {\n",
              "        text-align: right;\n",
              "    }\n",
              "</style>\n",
              "<table border=\"1\" class=\"dataframe\">\n",
              "  <thead>\n",
              "    <tr style=\"text-align: right;\">\n",
              "      <th></th>\n",
              "      <th>top_25_countries</th>\n",
              "      <th>country_code</th>\n",
              "    </tr>\n",
              "  </thead>\n",
              "  <tbody>\n",
              "    <tr>\n",
              "      <th>40473</th>\n",
              "      <td>PH</td>\n",
              "      <td>PH</td>\n",
              "    </tr>\n",
              "    <tr>\n",
              "      <th>13679</th>\n",
              "      <td>GT</td>\n",
              "      <td>GT</td>\n",
              "    </tr>\n",
              "    <tr>\n",
              "      <th>57836</th>\n",
              "      <td>KE</td>\n",
              "      <td>KE</td>\n",
              "    </tr>\n",
              "    <tr>\n",
              "      <th>33644</th>\n",
              "      <td>Other</td>\n",
              "      <td>TG</td>\n",
              "    </tr>\n",
              "    <tr>\n",
              "      <th>2437</th>\n",
              "      <td>VN</td>\n",
              "      <td>VN</td>\n",
              "    </tr>\n",
              "    <tr>\n",
              "      <th>32996</th>\n",
              "      <td>Other</td>\n",
              "      <td>SL</td>\n",
              "    </tr>\n",
              "    <tr>\n",
              "      <th>58407</th>\n",
              "      <td>WS</td>\n",
              "      <td>WS</td>\n",
              "    </tr>\n",
              "    <tr>\n",
              "      <th>20562</th>\n",
              "      <td>PH</td>\n",
              "      <td>PH</td>\n",
              "    </tr>\n",
              "    <tr>\n",
              "      <th>5845</th>\n",
              "      <td>UG</td>\n",
              "      <td>UG</td>\n",
              "    </tr>\n",
              "    <tr>\n",
              "      <th>6163</th>\n",
              "      <td>UG</td>\n",
              "      <td>UG</td>\n",
              "    </tr>\n",
              "  </tbody>\n",
              "</table>\n",
              "</div>"
            ],
            "text/plain": [
              "      top_25_countries country_code\n",
              "40473               PH           PH\n",
              "13679               GT           GT\n",
              "57836               KE           KE\n",
              "33644            Other           TG\n",
              "2437                VN           VN\n",
              "32996            Other           SL\n",
              "58407               WS           WS\n",
              "20562               PH           PH\n",
              "5845                UG           UG\n",
              "6163                UG           UG"
            ]
          },
          "metadata": {
            "tags": []
          },
          "execution_count": 28
        }
      ]
    },
    {
      "cell_type": "code",
      "metadata": {
        "id": "emTtgv0Z6M2j",
        "colab_type": "code",
        "colab": {}
      },
      "source": [
        ""
      ],
      "execution_count": 0,
      "outputs": []
    },
    {
      "cell_type": "code",
      "metadata": {
        "id": "xSek3RYs6M0T",
        "colab_type": "code",
        "colab": {}
      },
      "source": [
        ""
      ],
      "execution_count": 0,
      "outputs": []
    },
    {
      "cell_type": "code",
      "metadata": {
        "id": "-16i_v5N6Mw1",
        "colab_type": "code",
        "colab": {}
      },
      "source": [
        ""
      ],
      "execution_count": 0,
      "outputs": []
    },
    {
      "cell_type": "code",
      "metadata": {
        "id": "iwUq4v-Q6Mtc",
        "colab_type": "code",
        "colab": {}
      },
      "source": [
        ""
      ],
      "execution_count": 0,
      "outputs": []
    },
    {
      "cell_type": "code",
      "metadata": {
        "id": "qIdGzYuL6Mpu",
        "colab_type": "code",
        "colab": {}
      },
      "source": [
        ""
      ],
      "execution_count": 0,
      "outputs": []
    }
  ]
}